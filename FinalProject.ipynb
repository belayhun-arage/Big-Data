{
 "cells": [
  {
   "cell_type": "code",
   "execution_count": null,
   "id": "8354449c",
   "metadata": {},
   "outputs": [],
   "source": []
  },
  {
   "cell_type": "code",
   "execution_count": 1,
   "id": "12e0b2a3",
   "metadata": {},
   "outputs": [],
   "source": [
    "#Importing all the necessarylibraries\n",
    "import numpy as np\n",
    "import pandas as pd\n",
    "import matplotlib.pyplot as plt\n",
    "import seaborn as sns\n",
    "\n",
    "#Importing the warnings\n",
    "import warnings\n",
    "warnings.filterwarnings('ignore')"
   ]
  },
  {
   "cell_type": "code",
   "execution_count": 2,
   "id": "32e50711",
   "metadata": {},
   "outputs": [
    {
     "data": {
      "text/html": [
       "<div>\n",
       "<style scoped>\n",
       "    .dataframe tbody tr th:only-of-type {\n",
       "        vertical-align: middle;\n",
       "    }\n",
       "\n",
       "    .dataframe tbody tr th {\n",
       "        vertical-align: top;\n",
       "    }\n",
       "\n",
       "    .dataframe thead th {\n",
       "        text-align: right;\n",
       "    }\n",
       "</style>\n",
       "<table border=\"1\" class=\"dataframe\">\n",
       "  <thead>\n",
       "    <tr style=\"text-align: right;\">\n",
       "      <th></th>\n",
       "      <th>Estimated_Insects_Count</th>\n",
       "      <th>Crop_Type</th>\n",
       "      <th>Soil_Type</th>\n",
       "      <th>Pesticide_Use_Category</th>\n",
       "      <th>Number_Doses_Week</th>\n",
       "      <th>Number_Weeks_Used</th>\n",
       "      <th>Number_Weeks_Quit</th>\n",
       "      <th>Season</th>\n",
       "      <th>Crop_Damage</th>\n",
       "      <th>source</th>\n",
       "    </tr>\n",
       "  </thead>\n",
       "  <tbody>\n",
       "    <tr>\n",
       "      <th>0</th>\n",
       "      <td>188</td>\n",
       "      <td>1</td>\n",
       "      <td>0</td>\n",
       "      <td>1</td>\n",
       "      <td>0</td>\n",
       "      <td>0.0</td>\n",
       "      <td>0</td>\n",
       "      <td>1</td>\n",
       "      <td>0</td>\n",
       "      <td>train</td>\n",
       "    </tr>\n",
       "    <tr>\n",
       "      <th>1</th>\n",
       "      <td>209</td>\n",
       "      <td>1</td>\n",
       "      <td>0</td>\n",
       "      <td>1</td>\n",
       "      <td>0</td>\n",
       "      <td>0.0</td>\n",
       "      <td>0</td>\n",
       "      <td>2</td>\n",
       "      <td>1</td>\n",
       "      <td>train</td>\n",
       "    </tr>\n",
       "    <tr>\n",
       "      <th>2</th>\n",
       "      <td>257</td>\n",
       "      <td>1</td>\n",
       "      <td>0</td>\n",
       "      <td>1</td>\n",
       "      <td>0</td>\n",
       "      <td>0.0</td>\n",
       "      <td>0</td>\n",
       "      <td>2</td>\n",
       "      <td>1</td>\n",
       "      <td>train</td>\n",
       "    </tr>\n",
       "    <tr>\n",
       "      <th>3</th>\n",
       "      <td>257</td>\n",
       "      <td>1</td>\n",
       "      <td>1</td>\n",
       "      <td>1</td>\n",
       "      <td>0</td>\n",
       "      <td>0.0</td>\n",
       "      <td>0</td>\n",
       "      <td>2</td>\n",
       "      <td>1</td>\n",
       "      <td>train</td>\n",
       "    </tr>\n",
       "    <tr>\n",
       "      <th>4</th>\n",
       "      <td>342</td>\n",
       "      <td>1</td>\n",
       "      <td>0</td>\n",
       "      <td>1</td>\n",
       "      <td>0</td>\n",
       "      <td>0.0</td>\n",
       "      <td>0</td>\n",
       "      <td>2</td>\n",
       "      <td>1</td>\n",
       "      <td>train</td>\n",
       "    </tr>\n",
       "  </tbody>\n",
       "</table>\n",
       "</div>"
      ],
      "text/plain": [
       "   Estimated_Insects_Count  Crop_Type  Soil_Type  Pesticide_Use_Category  \\\n",
       "0                      188          1          0                       1   \n",
       "1                      209          1          0                       1   \n",
       "2                      257          1          0                       1   \n",
       "3                      257          1          1                       1   \n",
       "4                      342          1          0                       1   \n",
       "\n",
       "   Number_Doses_Week  Number_Weeks_Used  Number_Weeks_Quit  Season  \\\n",
       "0                  0                0.0                  0       1   \n",
       "1                  0                0.0                  0       2   \n",
       "2                  0                0.0                  0       2   \n",
       "3                  0                0.0                  0       2   \n",
       "4                  0                0.0                  0       2   \n",
       "\n",
       "   Crop_Damage source  \n",
       "0            0  train  \n",
       "1            1  train  \n",
       "2            1  train  \n",
       "3            1  train  \n",
       "4            1  train  "
      ]
     },
     "execution_count": 2,
     "metadata": {},
     "output_type": "execute_result"
    }
   ],
   "source": [
    "#Loading the dataset\n",
    "df_train=pd.read_csv(\"train_agri.csv\")\n",
    "df_train[\"source\"]=\"train\"\n",
    "df_test=pd.read_csv(\"test_agri.csv\")\n",
    "df_test[\"source\"]=\"test\"\n",
    "df=df_train\n",
    "df.head()"
   ]
  },
  {
   "cell_type": "code",
   "execution_count": 3,
   "id": "528ff12c",
   "metadata": {},
   "outputs": [],
   "source": [
    "# Cleaning Dataset"
   ]
  },
  {
   "cell_type": "code",
   "execution_count": 4,
   "id": "02d5c472",
   "metadata": {},
   "outputs": [
    {
     "name": "stdout",
     "output_type": "stream",
     "text": [
      "Estimated_Insects_Count 71\n",
      "Crop_Type 2\n",
      "[1 0]\n",
      "Soil_Type 2\n",
      "[0 1]\n",
      "Pesticide_Use_Category 3\n",
      "[1 3 2]\n",
      "Number_Doses_Week 20\n",
      "Number_Weeks_Used 64\n",
      "Number_Weeks_Quit 47\n",
      "Season 3\n",
      "[1 2 3]\n",
      "Crop_Damage 3\n",
      "[0 1 2]\n",
      "source 1\n",
      "['train']\n"
     ]
    }
   ],
   "source": [
    "for i in df.columns:\n",
    "    a=df[i].unique()\n",
    "    len(a)\n",
    "    print(i,len(a))\n",
    "    if len(a)<5:\n",
    "        print(a)"
   ]
  },
  {
   "cell_type": "code",
   "execution_count": null,
   "id": "fcba0aa1",
   "metadata": {},
   "outputs": [],
   "source": []
  },
  {
   "cell_type": "code",
   "execution_count": 5,
   "id": "ac859953",
   "metadata": {},
   "outputs": [
    {
     "data": {
      "text/plain": [
       "Estimated_Insects_Count    71\n",
       "Crop_Type                   2\n",
       "Soil_Type                   2\n",
       "Pesticide_Use_Category      3\n",
       "Number_Doses_Week          20\n",
       "Number_Weeks_Used          63\n",
       "Number_Weeks_Quit          47\n",
       "Season                      3\n",
       "Crop_Damage                 3\n",
       "source                      1\n",
       "dtype: int64"
      ]
     },
     "execution_count": 5,
     "metadata": {},
     "output_type": "execute_result"
    }
   ],
   "source": [
    "df.nunique()"
   ]
  },
  {
   "cell_type": "code",
   "execution_count": 6,
   "id": "14084f4e",
   "metadata": {},
   "outputs": [
    {
     "data": {
      "text/plain": [
       "Index(['Estimated_Insects_Count', 'Crop_Type', 'Soil_Type',\n",
       "       'Pesticide_Use_Category', 'Number_Doses_Week', 'Number_Weeks_Used',\n",
       "       'Number_Weeks_Quit', 'Season', 'Crop_Damage', 'source'],\n",
       "      dtype='object')"
      ]
     },
     "execution_count": 6,
     "metadata": {},
     "output_type": "execute_result"
    }
   ],
   "source": [
    "df.columns"
   ]
  },
  {
   "cell_type": "code",
   "execution_count": null,
   "id": "26028fda",
   "metadata": {},
   "outputs": [],
   "source": []
  },
  {
   "cell_type": "code",
   "execution_count": 7,
   "id": "4fde7158",
   "metadata": {},
   "outputs": [
    {
     "data": {
      "text/plain": [
       "(3939, 10)"
      ]
     },
     "execution_count": 7,
     "metadata": {},
     "output_type": "execute_result"
    }
   ],
   "source": [
    "df.shape"
   ]
  },
  {
   "cell_type": "code",
   "execution_count": 8,
   "id": "9f65c235",
   "metadata": {},
   "outputs": [
    {
     "data": {
      "text/plain": [
       "Estimated_Insects_Count      0\n",
       "Crop_Type                    0\n",
       "Soil_Type                    0\n",
       "Pesticide_Use_Category       0\n",
       "Number_Doses_Week            0\n",
       "Number_Weeks_Used          385\n",
       "Number_Weeks_Quit            0\n",
       "Season                       0\n",
       "Crop_Damage                  0\n",
       "source                       0\n",
       "dtype: int64"
      ]
     },
     "execution_count": 8,
     "metadata": {},
     "output_type": "execute_result"
    }
   ],
   "source": [
    "#Check for Null Values\n",
    "df.isnull().sum()"
   ]
  },
  {
   "cell_type": "code",
   "execution_count": 9,
   "id": "b2476c99",
   "metadata": {},
   "outputs": [],
   "source": [
    "#Observation:\n",
    "\n",
    "#1. Number_Weeks_Used has 9000  missing data."
   ]
  },
  {
   "cell_type": "code",
   "execution_count": 10,
   "id": "8f2bd714",
   "metadata": {},
   "outputs": [],
   "source": [
    "#Replacing missing values with mode of the data .\n",
    "df['Number_Weeks_Used'].fillna(df['Number_Weeks_Used'].mean(),inplace=True)"
   ]
  },
  {
   "cell_type": "code",
   "execution_count": 11,
   "id": "1dffec3b",
   "metadata": {},
   "outputs": [
    {
     "data": {
      "text/plain": [
       "Estimated_Insects_Count    0\n",
       "Crop_Type                  0\n",
       "Soil_Type                  0\n",
       "Pesticide_Use_Category     0\n",
       "Number_Doses_Week          0\n",
       "Number_Weeks_Used          0\n",
       "Number_Weeks_Quit          0\n",
       "Season                     0\n",
       "Crop_Damage                0\n",
       "source                     0\n",
       "dtype: int64"
      ]
     },
     "execution_count": 11,
     "metadata": {},
     "output_type": "execute_result"
    }
   ],
   "source": [
    "# Again Checking for Null Values\n",
    "df.isnull().sum()"
   ]
  },
  {
   "cell_type": "code",
   "execution_count": 12,
   "id": "08f0a5c3",
   "metadata": {},
   "outputs": [],
   "source": [
    "#Observation:\n",
    "\n",
    "#Clearly ,there are no null values present in the dataset."
   ]
  },
  {
   "cell_type": "code",
   "execution_count": 13,
   "id": "fea1b08b",
   "metadata": {},
   "outputs": [
    {
     "data": {
      "text/plain": [
       "Estimated_Insects_Count      int64\n",
       "Crop_Type                    int64\n",
       "Soil_Type                    int64\n",
       "Pesticide_Use_Category       int64\n",
       "Number_Doses_Week            int64\n",
       "Number_Weeks_Used          float64\n",
       "Number_Weeks_Quit            int64\n",
       "Season                       int64\n",
       "Crop_Damage                  int64\n",
       "source                      object\n",
       "dtype: object"
      ]
     },
     "execution_count": 13,
     "metadata": {},
     "output_type": "execute_result"
    }
   ],
   "source": [
    "#Checking Datatypes \n",
    "df.dtypes"
   ]
  },
  {
   "cell_type": "code",
   "execution_count": 14,
   "id": "a7b9075b",
   "metadata": {},
   "outputs": [],
   "source": [
    "#Observation:\n",
    "\n",
    "#1.ID column is in object datatype.\n",
    "\n",
    "#2.Rest all columns are in int64 datatype except Number_Weeks_Used column."
   ]
  },
  {
   "cell_type": "code",
   "execution_count": null,
   "id": "62205522",
   "metadata": {},
   "outputs": [],
   "source": []
  },
  {
   "cell_type": "code",
   "execution_count": 15,
   "id": "aa7dd342",
   "metadata": {},
   "outputs": [],
   "source": [
    "#Exploratory Data Analysis"
   ]
  },
  {
   "cell_type": "code",
   "execution_count": 16,
   "id": "b80d08c1",
   "metadata": {},
   "outputs": [
    {
     "name": "stdout",
     "output_type": "stream",
     "text": [
      "<class 'pandas.core.frame.DataFrame'>\n",
      "RangeIndex: 3939 entries, 0 to 3938\n",
      "Data columns (total 10 columns):\n",
      " #   Column                   Non-Null Count  Dtype  \n",
      "---  ------                   --------------  -----  \n",
      " 0   Estimated_Insects_Count  3939 non-null   int64  \n",
      " 1   Crop_Type                3939 non-null   int64  \n",
      " 2   Soil_Type                3939 non-null   int64  \n",
      " 3   Pesticide_Use_Category   3939 non-null   int64  \n",
      " 4   Number_Doses_Week        3939 non-null   int64  \n",
      " 5   Number_Weeks_Used        3939 non-null   float64\n",
      " 6   Number_Weeks_Quit        3939 non-null   int64  \n",
      " 7   Season                   3939 non-null   int64  \n",
      " 8   Crop_Damage              3939 non-null   int64  \n",
      " 9   source                   3939 non-null   object \n",
      "dtypes: float64(1), int64(8), object(1)\n",
      "memory usage: 307.9+ KB\n"
     ]
    }
   ],
   "source": [
    "df.info()"
   ]
  },
  {
   "cell_type": "code",
   "execution_count": 17,
   "id": "362b01d8",
   "metadata": {},
   "outputs": [
    {
     "data": {
      "text/plain": [
       "<AxesSubplot:>"
      ]
     },
     "execution_count": 17,
     "metadata": {},
     "output_type": "execute_result"
    },
    {
     "data": {
      "image/png": "[encoded data removed]",
      "text/plain": [
       "<Figure size 432x288 with 2 Axes>"
      ]
     },
     "metadata": {
      "needs_background": "light"
     },
     "output_type": "display_data"
    }
   ],
   "source": [
    "#Checking Correlation using heatmap\n",
    "sns.heatmap(df.corr(),annot=True,cmap='coolwarm')"
   ]
  },
  {
   "cell_type": "code",
   "execution_count": 18,
   "id": "51aade7e",
   "metadata": {},
   "outputs": [],
   "source": [
    "#Observation:\n",
    "\n",
    "#1.Estimated_Insects_count,Pesticide_use_category and Number_weeks_used are positively correlated with Crop damage.\n",
    "\n",
    "#2.Number_weeks_used  is positively correlated with Estimated_Insects_count and Pesticide_use_category. \n",
    "\n",
    "#3.Number_weeks_Quit is highly negatively correlated with Pesticide_use_category and Number_weeks_used."
   ]
  },
  {
   "cell_type": "code",
   "execution_count": null,
   "id": "690b98fc",
   "metadata": {},
   "outputs": [],
   "source": []
  },
  {
   "cell_type": "code",
   "execution_count": 19,
   "id": "a648f221",
   "metadata": {},
   "outputs": [],
   "source": [
    "#Univariate Analysis:"
   ]
  },
  {
   "cell_type": "code",
   "execution_count": null,
   "id": "1f2226c0",
   "metadata": {},
   "outputs": [],
   "source": []
  },
  {
   "cell_type": "code",
   "execution_count": 20,
   "id": "f522ad45",
   "metadata": {},
   "outputs": [
    {
     "data": {
      "text/plain": [
       "<Figure size 864x360 with 0 Axes>"
      ]
     },
     "metadata": {},
     "output_type": "display_data"
    },
    {
     "data": {
      "image/png": "[encoded data removed]",
      "text/plain": [
       "<Figure size 418.75x360 with 1 Axes>"
      ]
     },
     "metadata": {
      "needs_background": "light"
     },
     "output_type": "display_data"
    }
   ],
   "source": [
    "plt.figure(figsize=(12,5))\n",
    "sns.catplot(x='Crop_Damage', data=df, palette=\"hls\",kind='count',hue='Crop_Type')\n",
    "plt.xlabel(\"Crop_Damage\", fontsize=16)\n",
    "plt.ylabel(\"Count\", fontsize=16)\n",
    "plt.title(\"Crop_Type Grouped Count\", fontsize=20)\n",
    "plt.xticks(rotation=45)\n",
    "plt.show()"
   ]
  },
  {
   "cell_type": "code",
   "execution_count": 21,
   "id": "172b56b8",
   "metadata": {},
   "outputs": [],
   "source": [
    "#Observations:\n",
    "\n",
    "#1. Crop damage due to pesticides are less in comparison to damage due to other causes.\n",
    "#2. Crop type 0 has higher chance of survival compared to crop type 1."
   ]
  },
  {
   "cell_type": "code",
   "execution_count": 22,
   "id": "622f92e4",
   "metadata": {},
   "outputs": [
    {
     "data": {
      "text/plain": [
       "Text(0.5, 1.0, 'Crop Damage vs Pesticide Use Category ')"
      ]
     },
     "execution_count": 22,
     "metadata": {},
     "output_type": "execute_result"
    },
    {
     "data": {
      "image/png": "[encoded data removed]",
      "text/plain": [
       "<Figure size 1080x360 with 3 Axes>"
      ]
     },
     "metadata": {
      "needs_background": "light"
     },
     "output_type": "display_data"
    }
   ],
   "source": [
    "fig, [ax1,ax2,ax3] = plt.subplots(nrows=1,ncols=3,figsize=(15,5))\n",
    "ax1=sns.countplot(x=\"Crop_Damage\" ,hue=\"Pesticide_Use_Category\",data=df[df[\"Crop_Damage\"]==0],ax=ax1)\n",
    "ax1.set_title(\"Crop Damage vs Insect Count for Crop Type\")\n",
    "ax2=sns.countplot(x=\"Crop_Damage\" ,hue=\"Pesticide_Use_Category\",data=df[df[\"Crop_Damage\"]==1],ax=ax2)\n",
    "ax2.set_title(\"Crop Damage vs Number Week Used\")\n",
    "ax3=sns.countplot(x=\"Crop_Damage\" ,hue=\"Pesticide_Use_Category\",data=df[df[\"Crop_Damage\"]==2],ax=ax3)\n",
    "ax3.set_title(\"Crop Damage vs Pesticide Use Category \")"
   ]
  },
  {
   "cell_type": "code",
   "execution_count": 23,
   "id": "934aa50d",
   "metadata": {},
   "outputs": [],
   "source": [
    "#Observations:\n",
    "     #   1.Type 2 pesticide is much safer to use as compared to Type 3 pesticide.\n",
    "\n",
    "     #   2.Type 3 pesticide shows most pesticide-related damage to crops."
   ]
  },
  {
   "cell_type": "code",
   "execution_count": null,
   "id": "1dc7cb21",
   "metadata": {},
   "outputs": [],
   "source": []
  },
  {
   "cell_type": "code",
   "execution_count": 24,
   "id": "0abfe203",
   "metadata": {},
   "outputs": [
    {
     "data": {
      "text/plain": [
       "<Figure size 864x360 with 0 Axes>"
      ]
     },
     "metadata": {},
     "output_type": "display_data"
    },
    {
     "data": {
      "image/png": "[encoded data removed]",
      "text/plain": [
       "<Figure size 1080x360 with 3 Axes>"
      ]
     },
     "metadata": {
      "needs_background": "light"
     },
     "output_type": "display_data"
    }
   ],
   "source": [
    "plt.figure(figsize=(12,5))\n",
    "g= sns.FacetGrid(df, col='Crop_Damage',size=5)\n",
    "g = g.map(sns.distplot, \"Number_Weeks_Used\")\n",
    "plt.show()"
   ]
  },
  {
   "cell_type": "code",
   "execution_count": 25,
   "id": "d286d9bc",
   "metadata": {},
   "outputs": [],
   "source": [
    "#Observations:\n",
    "#From Graph 1 we can conclude that till 20-25 weeks damage due to pesticide is negligible.\n",
    "#From Graph 3 we can see that after 20 weeks damage due to use of pesticide increrases significantly."
   ]
  },
  {
   "cell_type": "code",
   "execution_count": null,
   "id": "691babce",
   "metadata": {},
   "outputs": [],
   "source": []
  },
  {
   "cell_type": "code",
   "execution_count": null,
   "id": "1a74614e",
   "metadata": {},
   "outputs": [],
   "source": []
  },
  {
   "cell_type": "code",
   "execution_count": 26,
   "id": "4c8d538d",
   "metadata": {},
   "outputs": [],
   "source": [
    "# Bivariate Analysis:"
   ]
  },
  {
   "cell_type": "code",
   "execution_count": 27,
   "id": "7fcfb912",
   "metadata": {},
   "outputs": [
    {
     "data": {
      "text/plain": [
       "<AxesSubplot:xlabel='Crop_Damage', ylabel='Estimated_Insects_Count'>"
      ]
     },
     "execution_count": 27,
     "metadata": {},
     "output_type": "execute_result"
    },
    {
     "data": {
      "image/png": "[encoded data removed]",
      "text/plain": [
       "<Figure size 432x288 with 1 Axes>"
      ]
     },
     "metadata": {
      "needs_background": "light"
     },
     "output_type": "display_data"
    }
   ],
   "source": [
    "sns.barplot(x=\"Crop_Damage\" ,y=\"Estimated_Insects_Count\",hue=\"Crop_Type\",data=df)"
   ]
  },
  {
   "cell_type": "code",
   "execution_count": 28,
   "id": "2925a492",
   "metadata": {},
   "outputs": [],
   "source": [
    "#Observations:\n",
    "#Clearly observed that Most insect attacks are done on crop type 0."
   ]
  },
  {
   "cell_type": "code",
   "execution_count": null,
   "id": "62f048a6",
   "metadata": {},
   "outputs": [],
   "source": []
  },
  {
   "cell_type": "code",
   "execution_count": 29,
   "id": "607426c5",
   "metadata": {},
   "outputs": [
    {
     "data": {
      "text/plain": [
       "<Figure size 864x360 with 0 Axes>"
      ]
     },
     "metadata": {},
     "output_type": "display_data"
    },
    {
     "data": {
      "image/png": "[encoded data removed]",
      "text/plain": [
       "<Figure size 1080x360 with 3 Axes>"
      ]
     },
     "metadata": {
      "needs_background": "light"
     },
     "output_type": "display_data"
    }
   ],
   "source": [
    "plt.figure(figsize=(12,5))\n",
    "sns.catplot(x='Crop_Type',y='Number_Weeks_Used', data=df, palette=\"hls\",kind='bar',col='Crop_Damage')\n",
    "plt.xticks(rotation=45)\n",
    "plt.show()"
   ]
  },
  {
   "cell_type": "code",
   "execution_count": 30,
   "id": "e2ac4804",
   "metadata": {},
   "outputs": [],
   "source": [
    "#Observations:\n",
    "#Crop Type 0 is more vulnerable to pesticide related and other damages as compared to Type1\n",
    "#Avg. duration of pesticide related damage is lower for Crop type 1."
   ]
  },
  {
   "cell_type": "code",
   "execution_count": null,
   "id": "e395c1b4",
   "metadata": {},
   "outputs": [],
   "source": []
  },
  {
   "cell_type": "code",
   "execution_count": null,
   "id": "d9db1893",
   "metadata": {},
   "outputs": [],
   "source": []
  },
  {
   "cell_type": "code",
   "execution_count": 31,
   "id": "3ceee426",
   "metadata": {},
   "outputs": [],
   "source": [
    "#Data Pre-processing :\n",
    "#Outliers Analysis : \n",
    "#Outliers - an extreme value that deviates from the other observations in the dataset"
   ]
  },
  {
   "cell_type": "code",
   "execution_count": 32,
   "id": "98a07f5b",
   "metadata": {},
   "outputs": [
    {
     "data": {
      "text/html": [
       "<div>\n",
       "<style scoped>\n",
       "    .dataframe tbody tr th:only-of-type {\n",
       "        vertical-align: middle;\n",
       "    }\n",
       "\n",
       "    .dataframe tbody tr th {\n",
       "        vertical-align: top;\n",
       "    }\n",
       "\n",
       "    .dataframe thead th {\n",
       "        text-align: right;\n",
       "    }\n",
       "</style>\n",
       "<table border=\"1\" class=\"dataframe\">\n",
       "  <thead>\n",
       "    <tr style=\"text-align: right;\">\n",
       "      <th></th>\n",
       "      <th>Estimated_Insects_Count</th>\n",
       "      <th>Crop_Type</th>\n",
       "      <th>Soil_Type</th>\n",
       "      <th>Pesticide_Use_Category</th>\n",
       "      <th>Number_Doses_Week</th>\n",
       "      <th>Number_Weeks_Used</th>\n",
       "      <th>Number_Weeks_Quit</th>\n",
       "      <th>Season</th>\n",
       "      <th>Crop_Damage</th>\n",
       "    </tr>\n",
       "  </thead>\n",
       "  <tbody>\n",
       "    <tr>\n",
       "      <th>count</th>\n",
       "      <td>3939.000000</td>\n",
       "      <td>3939.000000</td>\n",
       "      <td>3939.000000</td>\n",
       "      <td>3939.000000</td>\n",
       "      <td>3939.000000</td>\n",
       "      <td>3939.000000</td>\n",
       "      <td>3939.000000</td>\n",
       "      <td>3939.000000</td>\n",
       "      <td>3939.000000</td>\n",
       "    </tr>\n",
       "    <tr>\n",
       "      <th>mean</th>\n",
       "      <td>1401.646357</td>\n",
       "      <td>0.262503</td>\n",
       "      <td>0.389439</td>\n",
       "      <td>2.331048</td>\n",
       "      <td>26.166540</td>\n",
       "      <td>29.738604</td>\n",
       "      <td>8.565880</td>\n",
       "      <td>1.897436</td>\n",
       "      <td>0.212237</td>\n",
       "    </tr>\n",
       "    <tr>\n",
       "      <th>std</th>\n",
       "      <td>844.989938</td>\n",
       "      <td>0.440050</td>\n",
       "      <td>0.487685</td>\n",
       "      <td>0.494334</td>\n",
       "      <td>15.537719</td>\n",
       "      <td>12.196214</td>\n",
       "      <td>9.691635</td>\n",
       "      <td>0.694344</td>\n",
       "      <td>0.471259</td>\n",
       "    </tr>\n",
       "    <tr>\n",
       "      <th>min</th>\n",
       "      <td>150.000000</td>\n",
       "      <td>0.000000</td>\n",
       "      <td>0.000000</td>\n",
       "      <td>1.000000</td>\n",
       "      <td>0.000000</td>\n",
       "      <td>0.000000</td>\n",
       "      <td>0.000000</td>\n",
       "      <td>1.000000</td>\n",
       "      <td>0.000000</td>\n",
       "    </tr>\n",
       "    <tr>\n",
       "      <th>25%</th>\n",
       "      <td>732.000000</td>\n",
       "      <td>0.000000</td>\n",
       "      <td>0.000000</td>\n",
       "      <td>2.000000</td>\n",
       "      <td>15.000000</td>\n",
       "      <td>21.000000</td>\n",
       "      <td>0.000000</td>\n",
       "      <td>1.000000</td>\n",
       "      <td>0.000000</td>\n",
       "    </tr>\n",
       "    <tr>\n",
       "      <th>50%</th>\n",
       "      <td>1212.000000</td>\n",
       "      <td>0.000000</td>\n",
       "      <td>0.000000</td>\n",
       "      <td>2.000000</td>\n",
       "      <td>20.000000</td>\n",
       "      <td>29.738604</td>\n",
       "      <td>5.000000</td>\n",
       "      <td>2.000000</td>\n",
       "      <td>0.000000</td>\n",
       "    </tr>\n",
       "    <tr>\n",
       "      <th>75%</th>\n",
       "      <td>1898.000000</td>\n",
       "      <td>1.000000</td>\n",
       "      <td>1.000000</td>\n",
       "      <td>3.000000</td>\n",
       "      <td>40.000000</td>\n",
       "      <td>38.000000</td>\n",
       "      <td>15.000000</td>\n",
       "      <td>2.000000</td>\n",
       "      <td>0.000000</td>\n",
       "    </tr>\n",
       "    <tr>\n",
       "      <th>max</th>\n",
       "      <td>4097.000000</td>\n",
       "      <td>1.000000</td>\n",
       "      <td>1.000000</td>\n",
       "      <td>3.000000</td>\n",
       "      <td>95.000000</td>\n",
       "      <td>66.000000</td>\n",
       "      <td>47.000000</td>\n",
       "      <td>3.000000</td>\n",
       "      <td>2.000000</td>\n",
       "    </tr>\n",
       "  </tbody>\n",
       "</table>\n",
       "</div>"
      ],
      "text/plain": [
       "       Estimated_Insects_Count    Crop_Type    Soil_Type  \\\n",
       "count              3939.000000  3939.000000  3939.000000   \n",
       "mean               1401.646357     0.262503     0.389439   \n",
       "std                 844.989938     0.440050     0.487685   \n",
       "min                 150.000000     0.000000     0.000000   \n",
       "25%                 732.000000     0.000000     0.000000   \n",
       "50%                1212.000000     0.000000     0.000000   \n",
       "75%                1898.000000     1.000000     1.000000   \n",
       "max                4097.000000     1.000000     1.000000   \n",
       "\n",
       "       Pesticide_Use_Category  Number_Doses_Week  Number_Weeks_Used  \\\n",
       "count             3939.000000        3939.000000        3939.000000   \n",
       "mean                 2.331048          26.166540          29.738604   \n",
       "std                  0.494334          15.537719          12.196214   \n",
       "min                  1.000000           0.000000           0.000000   \n",
       "25%                  2.000000          15.000000          21.000000   \n",
       "50%                  2.000000          20.000000          29.738604   \n",
       "75%                  3.000000          40.000000          38.000000   \n",
       "max                  3.000000          95.000000          66.000000   \n",
       "\n",
       "       Number_Weeks_Quit       Season  Crop_Damage  \n",
       "count        3939.000000  3939.000000  3939.000000  \n",
       "mean            8.565880     1.897436     0.212237  \n",
       "std             9.691635     0.694344     0.471259  \n",
       "min             0.000000     1.000000     0.000000  \n",
       "25%             0.000000     1.000000     0.000000  \n",
       "50%             5.000000     2.000000     0.000000  \n",
       "75%            15.000000     2.000000     0.000000  \n",
       "max            47.000000     3.000000     2.000000  "
      ]
     },
     "execution_count": 32,
     "metadata": {},
     "output_type": "execute_result"
    }
   ],
   "source": [
    "#Lets use the describe function \n",
    "df.describe()"
   ]
  },
  {
   "cell_type": "code",
   "execution_count": 33,
   "id": "b6a2ffa8",
   "metadata": {},
   "outputs": [],
   "source": [
    "# Obeservation\n",
    "# 1.Clearly some outliers are present in Insect_Count ,doses_week and number_weeks_quit columns."
   ]
  },
  {
   "cell_type": "code",
   "execution_count": 34,
   "id": "80f7878c",
   "metadata": {},
   "outputs": [
    {
     "data": {
      "text/plain": [
       "Estimated_Insects_Count      int64\n",
       "Crop_Type                    int64\n",
       "Soil_Type                    int64\n",
       "Pesticide_Use_Category       int64\n",
       "Number_Doses_Week            int64\n",
       "Number_Weeks_Used          float64\n",
       "Number_Weeks_Quit            int64\n",
       "Season                       int64\n",
       "Crop_Damage                  int64\n",
       "dtype: object"
      ]
     },
     "execution_count": 34,
     "metadata": {},
     "output_type": "execute_result"
    }
   ],
   "source": [
    "#Dropping Source column from the data for outlier analysis\n",
    "df.drop(columns=[\"source\"],axis=1,inplace=True)\n",
    "df.dtypes"
   ]
  },
  {
   "cell_type": "code",
   "execution_count": 35,
   "id": "8577861e",
   "metadata": {},
   "outputs": [
    {
     "data": {
      "text/plain": [
       "Estimated_Insects_Count       AxesSubplot(0.125,0.749828;0.133621x0.130172)\n",
       "Crop_Type                  AxesSubplot(0.285345,0.749828;0.133621x0.130172)\n",
       "Soil_Type                   AxesSubplot(0.44569,0.749828;0.133621x0.130172)\n",
       "Pesticide_Use_Category     AxesSubplot(0.606034,0.749828;0.133621x0.130172)\n",
       "Number_Doses_Week          AxesSubplot(0.766379,0.749828;0.133621x0.130172)\n",
       "Number_Weeks_Used             AxesSubplot(0.125,0.593621;0.133621x0.130172)\n",
       "Number_Weeks_Quit          AxesSubplot(0.285345,0.593621;0.133621x0.130172)\n",
       "Season                      AxesSubplot(0.44569,0.593621;0.133621x0.130172)\n",
       "Crop_Damage                AxesSubplot(0.606034,0.593621;0.133621x0.130172)\n",
       "dtype: object"
      ]
     },
     "execution_count": 35,
     "metadata": {},
     "output_type": "execute_result"
    },
    {
     "data": {
      "image/png": "[encoded data removed]",
      "text/plain": [
       "<Figure size 1080x1080 with 25 Axes>"
      ]
     },
     "metadata": {
      "needs_background": "light"
     },
     "output_type": "display_data"
    }
   ],
   "source": [
    "#Now we will check for outliers using boxplot\n",
    "df.plot(kind=\"box\",subplots=True,layout=(5,5),figsize=(15,15))"
   ]
  },
  {
   "cell_type": "code",
   "execution_count": 36,
   "id": "93c4ae3c",
   "metadata": {},
   "outputs": [],
   "source": [
    "#Observation\n",
    "#Clearly, some outliers are present in Insect_Count, doses_week, and number_weeks_quit columns."
   ]
  },
  {
   "cell_type": "code",
   "execution_count": null,
   "id": "aa724d7d",
   "metadata": {},
   "outputs": [],
   "source": []
  },
  {
   "cell_type": "code",
   "execution_count": 37,
   "id": "bbbaef8d",
   "metadata": {},
   "outputs": [],
   "source": [
    "#Removing Outliers"
   ]
  },
  {
   "cell_type": "code",
   "execution_count": 38,
   "id": "86e3d141",
   "metadata": {},
   "outputs": [],
   "source": [
    "#now finding the mean value of each column and replacing with outlier value\n",
    "df.loc[df['Number_Weeks_Used']>55,'Number_Weeks_Used'] = np.mean(df[\"Number_Weeks_Used\"])\n",
    "df.loc[df['Estimated_Insects_Count']>3500,'Estimated_Insects_Count'] = np.mean(df[\"Estimated_Insects_Count\"])\n",
    "df.loc[df['Number_Weeks_Quit']>40,'Number_Weeks_Quit'] = np.mean(df[\"Number_Weeks_Quit\"])\n",
    "df.loc[df['Number_Doses_Week']>80,'Number_Doses_Week'] = np.mean(df[\"Number_Doses_Week\"])"
   ]
  },
  {
   "cell_type": "code",
   "execution_count": null,
   "id": "6f2ddc16",
   "metadata": {},
   "outputs": [],
   "source": []
  },
  {
   "cell_type": "code",
   "execution_count": 39,
   "id": "ec7aee4d",
   "metadata": {},
   "outputs": [
    {
     "data": {
      "text/plain": [
       "Estimated_Insects_Count       AxesSubplot(0.125,0.749828;0.133621x0.130172)\n",
       "Crop_Type                  AxesSubplot(0.285345,0.749828;0.133621x0.130172)\n",
       "Soil_Type                   AxesSubplot(0.44569,0.749828;0.133621x0.130172)\n",
       "Pesticide_Use_Category     AxesSubplot(0.606034,0.749828;0.133621x0.130172)\n",
       "Number_Doses_Week          AxesSubplot(0.766379,0.749828;0.133621x0.130172)\n",
       "Number_Weeks_Used             AxesSubplot(0.125,0.593621;0.133621x0.130172)\n",
       "Number_Weeks_Quit          AxesSubplot(0.285345,0.593621;0.133621x0.130172)\n",
       "Season                      AxesSubplot(0.44569,0.593621;0.133621x0.130172)\n",
       "Crop_Damage                AxesSubplot(0.606034,0.593621;0.133621x0.130172)\n",
       "dtype: object"
      ]
     },
     "execution_count": 39,
     "metadata": {},
     "output_type": "execute_result"
    },
    {
     "data": {
      "image/png": "[encoded data removed]",
      "text/plain": [
       "<Figure size 1080x1080 with 25 Axes>"
      ]
     },
     "metadata": {
      "needs_background": "light"
     },
     "output_type": "display_data"
    }
   ],
   "source": [
    "#Now we will check for outliers using boxplot\n",
    "df.plot(kind=\"box\",subplots=True,layout=(5,5),figsize=(15,15))\n",
    "\n",
    "#we can see that outliers have been removed in Total Volume , Large, Small and Total bags"
   ]
  },
  {
   "cell_type": "code",
   "execution_count": 40,
   "id": "c6fafae4",
   "metadata": {},
   "outputs": [
    {
     "data": {
      "text/html": [
       "<div>\n",
       "<style scoped>\n",
       "    .dataframe tbody tr th:only-of-type {\n",
       "        vertical-align: middle;\n",
       "    }\n",
       "\n",
       "    .dataframe tbody tr th {\n",
       "        vertical-align: top;\n",
       "    }\n",
       "\n",
       "    .dataframe thead th {\n",
       "        text-align: right;\n",
       "    }\n",
       "</style>\n",
       "<table border=\"1\" class=\"dataframe\">\n",
       "  <thead>\n",
       "    <tr style=\"text-align: right;\">\n",
       "      <th></th>\n",
       "      <th>Estimated_Insects_Count</th>\n",
       "      <th>Crop_Type</th>\n",
       "      <th>Soil_Type</th>\n",
       "      <th>Pesticide_Use_Category</th>\n",
       "      <th>Number_Doses_Week</th>\n",
       "      <th>Number_Weeks_Used</th>\n",
       "      <th>Number_Weeks_Quit</th>\n",
       "      <th>Season</th>\n",
       "      <th>Crop_Damage</th>\n",
       "    </tr>\n",
       "  </thead>\n",
       "  <tbody>\n",
       "    <tr>\n",
       "      <th>count</th>\n",
       "      <td>3939.000000</td>\n",
       "      <td>3939.000000</td>\n",
       "      <td>3939.000000</td>\n",
       "      <td>3939.000000</td>\n",
       "      <td>3939.000000</td>\n",
       "      <td>3939.000000</td>\n",
       "      <td>3939.000000</td>\n",
       "      <td>3939.000000</td>\n",
       "      <td>3939.000000</td>\n",
       "    </tr>\n",
       "    <tr>\n",
       "      <th>mean</th>\n",
       "      <td>1339.841640</td>\n",
       "      <td>0.262503</td>\n",
       "      <td>0.389439</td>\n",
       "      <td>2.331048</td>\n",
       "      <td>26.008293</td>\n",
       "      <td>29.089774</td>\n",
       "      <td>8.410557</td>\n",
       "      <td>1.897436</td>\n",
       "      <td>0.212237</td>\n",
       "    </tr>\n",
       "    <tr>\n",
       "      <th>std</th>\n",
       "      <td>751.278796</td>\n",
       "      <td>0.440050</td>\n",
       "      <td>0.487685</td>\n",
       "      <td>0.494334</td>\n",
       "      <td>15.215224</td>\n",
       "      <td>11.361625</td>\n",
       "      <td>9.412919</td>\n",
       "      <td>0.694344</td>\n",
       "      <td>0.471259</td>\n",
       "    </tr>\n",
       "    <tr>\n",
       "      <th>min</th>\n",
       "      <td>150.000000</td>\n",
       "      <td>0.000000</td>\n",
       "      <td>0.000000</td>\n",
       "      <td>1.000000</td>\n",
       "      <td>0.000000</td>\n",
       "      <td>0.000000</td>\n",
       "      <td>0.000000</td>\n",
       "      <td>1.000000</td>\n",
       "      <td>0.000000</td>\n",
       "    </tr>\n",
       "    <tr>\n",
       "      <th>25%</th>\n",
       "      <td>732.000000</td>\n",
       "      <td>0.000000</td>\n",
       "      <td>0.000000</td>\n",
       "      <td>2.000000</td>\n",
       "      <td>15.000000</td>\n",
       "      <td>21.000000</td>\n",
       "      <td>0.000000</td>\n",
       "      <td>1.000000</td>\n",
       "      <td>0.000000</td>\n",
       "    </tr>\n",
       "    <tr>\n",
       "      <th>50%</th>\n",
       "      <td>1212.000000</td>\n",
       "      <td>0.000000</td>\n",
       "      <td>0.000000</td>\n",
       "      <td>2.000000</td>\n",
       "      <td>20.000000</td>\n",
       "      <td>29.738604</td>\n",
       "      <td>5.000000</td>\n",
       "      <td>2.000000</td>\n",
       "      <td>0.000000</td>\n",
       "    </tr>\n",
       "    <tr>\n",
       "      <th>75%</th>\n",
       "      <td>1786.000000</td>\n",
       "      <td>1.000000</td>\n",
       "      <td>1.000000</td>\n",
       "      <td>3.000000</td>\n",
       "      <td>40.000000</td>\n",
       "      <td>37.000000</td>\n",
       "      <td>15.000000</td>\n",
       "      <td>2.000000</td>\n",
       "      <td>0.000000</td>\n",
       "    </tr>\n",
       "    <tr>\n",
       "      <th>max</th>\n",
       "      <td>3337.000000</td>\n",
       "      <td>1.000000</td>\n",
       "      <td>1.000000</td>\n",
       "      <td>3.000000</td>\n",
       "      <td>80.000000</td>\n",
       "      <td>55.000000</td>\n",
       "      <td>40.000000</td>\n",
       "      <td>3.000000</td>\n",
       "      <td>2.000000</td>\n",
       "    </tr>\n",
       "  </tbody>\n",
       "</table>\n",
       "</div>"
      ],
      "text/plain": [
       "       Estimated_Insects_Count    Crop_Type    Soil_Type  \\\n",
       "count              3939.000000  3939.000000  3939.000000   \n",
       "mean               1339.841640     0.262503     0.389439   \n",
       "std                 751.278796     0.440050     0.487685   \n",
       "min                 150.000000     0.000000     0.000000   \n",
       "25%                 732.000000     0.000000     0.000000   \n",
       "50%                1212.000000     0.000000     0.000000   \n",
       "75%                1786.000000     1.000000     1.000000   \n",
       "max                3337.000000     1.000000     1.000000   \n",
       "\n",
       "       Pesticide_Use_Category  Number_Doses_Week  Number_Weeks_Used  \\\n",
       "count             3939.000000        3939.000000        3939.000000   \n",
       "mean                 2.331048          26.008293          29.089774   \n",
       "std                  0.494334          15.215224          11.361625   \n",
       "min                  1.000000           0.000000           0.000000   \n",
       "25%                  2.000000          15.000000          21.000000   \n",
       "50%                  2.000000          20.000000          29.738604   \n",
       "75%                  3.000000          40.000000          37.000000   \n",
       "max                  3.000000          80.000000          55.000000   \n",
       "\n",
       "       Number_Weeks_Quit       Season  Crop_Damage  \n",
       "count        3939.000000  3939.000000  3939.000000  \n",
       "mean            8.410557     1.897436     0.212237  \n",
       "std             9.412919     0.694344     0.471259  \n",
       "min             0.000000     1.000000     0.000000  \n",
       "25%             0.000000     1.000000     0.000000  \n",
       "50%             5.000000     2.000000     0.000000  \n",
       "75%            15.000000     2.000000     0.000000  \n",
       "max            40.000000     3.000000     2.000000  "
      ]
     },
     "execution_count": 40,
     "metadata": {},
     "output_type": "execute_result"
    }
   ],
   "source": [
    "#Lets use the describe function \n",
    "#now finding the mean value of each column and replacing with outlier value\n",
    "df.describe()"
   ]
  },
  {
   "cell_type": "code",
   "execution_count": 41,
   "id": "ce55c12a",
   "metadata": {},
   "outputs": [],
   "source": [
    "#Observations:\n",
    "#1.we can see that outliers have been removed in Insect_Count, Number_Doses_Weeks,Number_Weeks_Quit"
   ]
  },
  {
   "cell_type": "code",
   "execution_count": null,
   "id": "5ab95498",
   "metadata": {},
   "outputs": [],
   "source": []
  },
  {
   "cell_type": "code",
   "execution_count": null,
   "id": "cff11843",
   "metadata": {},
   "outputs": [],
   "source": []
  },
  {
   "cell_type": "code",
   "execution_count": 42,
   "id": "a9b7a9eb",
   "metadata": {},
   "outputs": [],
   "source": [
    "# Skew Analysis : \n",
    "# Checking skewness of our data using histplot and observed that all the data is normally distributed.\n",
    "#Skewness refers to a distortion or asymmetry that deviates from the symmetrical bell curve, or normal distribution,\n",
    "# in a set of data. If the curve is shifted to the left or to the right, it is said to be skewed."
   ]
  },
  {
   "cell_type": "code",
   "execution_count": 43,
   "id": "b60a92ed",
   "metadata": {},
   "outputs": [
    {
     "data": {
      "text/plain": [
       "Estimated_Insects_Count    0.634470\n",
       "Crop_Type                  1.079956\n",
       "Soil_Type                  0.453642\n",
       "Pesticide_Use_Category     0.431946\n",
       "Number_Doses_Week          0.880357\n",
       "Number_Weeks_Used          0.036020\n",
       "Number_Weeks_Quit          0.962972\n",
       "Season                     0.139971\n",
       "Crop_Damage                2.159286\n",
       "dtype: float64"
      ]
     },
     "execution_count": 43,
     "metadata": {},
     "output_type": "execute_result"
    }
   ],
   "source": [
    "df.skew()"
   ]
  },
  {
   "cell_type": "code",
   "execution_count": 44,
   "id": "fc85e9a9",
   "metadata": {},
   "outputs": [
    {
     "data": {
      "text/plain": [
       "array([[<AxesSubplot:title={'center':'Estimated_Insects_Count'}>,\n",
       "        <AxesSubplot:title={'center':'Crop_Type'}>,\n",
       "        <AxesSubplot:title={'center':'Soil_Type'}>,\n",
       "        <AxesSubplot:title={'center':'Pesticide_Use_Category'}>],\n",
       "       [<AxesSubplot:title={'center':'Number_Doses_Week'}>,\n",
       "        <AxesSubplot:title={'center':'Number_Weeks_Used'}>,\n",
       "        <AxesSubplot:title={'center':'Number_Weeks_Quit'}>,\n",
       "        <AxesSubplot:title={'center':'Season'}>],\n",
       "       [<AxesSubplot:title={'center':'Crop_Damage'}>, <AxesSubplot:>,\n",
       "        <AxesSubplot:>, <AxesSubplot:>],\n",
       "       [<AxesSubplot:>, <AxesSubplot:>, <AxesSubplot:>, <AxesSubplot:>]],\n",
       "      dtype=object)"
      ]
     },
     "execution_count": 44,
     "metadata": {},
     "output_type": "execute_result"
    },
    {
     "data": {
      "image/png": "[encoded data removed]",
      "text/plain": [
       "<Figure size 1080x1080 with 16 Axes>"
      ]
     },
     "metadata": {
      "needs_background": "light"
     },
     "output_type": "display_data"
    }
   ],
   "source": [
    "df.hist(figsize=(15,15), layout=(4,4), bins=20)"
   ]
  },
  {
   "cell_type": "code",
   "execution_count": 45,
   "id": "9642a124",
   "metadata": {},
   "outputs": [],
   "source": [
    "# Observations:\n",
    "#1. We can see that all the data is normally distributed."
   ]
  },
  {
   "cell_type": "code",
   "execution_count": null,
   "id": "e2a3c3e6",
   "metadata": {},
   "outputs": [],
   "source": []
  },
  {
   "cell_type": "code",
   "execution_count": null,
   "id": "677da255",
   "metadata": {},
   "outputs": [],
   "source": []
  },
  {
   "cell_type": "code",
   "execution_count": 46,
   "id": "ba8ba973",
   "metadata": {},
   "outputs": [],
   "source": [
    "#Classifier Modelling"
   ]
  },
  {
   "cell_type": "code",
   "execution_count": 47,
   "id": "db34ac18",
   "metadata": {},
   "outputs": [],
   "source": [
    "#Scaling Dataset:\n",
    "#As usual, the first step is to drop the target variable and then scaling the dataset by using Standard Scaler to make the data normally distributed.\n",
    "\n",
    "#Splitting Dataset:\n",
    "#After preprocessing, we now split the data into training/testing subsets.\n",
    "\n",
    "#Evaluating Models:\n",
    "#We now checked various classification models and calculated metrics such as the precision, recall, and F1 score.\n",
    "\n",
    "#The models we will run here are:\n",
    "\n",
    "#Random Forest\n",
    "#K Nearest Neighbor(KNN)\n",
    "#Decision Tree Classifier\n",
    "#Gaussian NB"
   ]
  },
  {
   "cell_type": "code",
   "execution_count": null,
   "id": "40cac263",
   "metadata": {},
   "outputs": [],
   "source": []
  },
  {
   "cell_type": "code",
   "execution_count": 48,
   "id": "33f7df90",
   "metadata": {},
   "outputs": [],
   "source": [
    "#Importing libraries\n",
    "from sklearn.metrics import accuracy_score,classification_report,confusion_matrix,roc_auc_score,roc_curve\n",
    "from sklearn.linear_model import LogisticRegression\n",
    "from sklearn.naive_bayes import MultinomialNB\n",
    "from sklearn.neighbors import KNeighborsClassifier\n",
    "from sklearn.ensemble import RandomForestClassifier\n",
    "from sklearn.svm import SVC\n",
    "from sklearn.tree import DecisionTreeClassifier\n",
    "from sklearn.ensemble import AdaBoostClassifier,GradientBoostingClassifier\n",
    "from sklearn.model_selection import cross_val_score\n",
    "from scipy.stats import zscore\n",
    "from sklearn.preprocessing import LabelEncoder,StandardScaler\n",
    "from sklearn.model_selection import train_test_split,GridSearchCV\n",
    "from sklearn.decomposition import PCA\n",
    "from sklearn.naive_bayes import GaussianNB"
   ]
  },
  {
   "cell_type": "code",
   "execution_count": 49,
   "id": "74ecfb26",
   "metadata": {},
   "outputs": [],
   "source": [
    "# Dropping region and Day from x for classifcation dataset\n",
    "#Assigning the value of x for testing and training\n",
    "df_xc=df.drop(columns=['Crop_Damage'])\n",
    "yc=df[[\"Crop_Damage\"]]"
   ]
  },
  {
   "cell_type": "code",
   "execution_count": 50,
   "id": "d5ff6db9",
   "metadata": {},
   "outputs": [],
   "source": [
    "#Bring every column to common scale by using Standard Scaler\n",
    "from sklearn.preprocessing import StandardScaler\n",
    "sc = StandardScaler()\n",
    "xc = sc.fit_transform(df_xc)\n",
    "df_xc=pd.DataFrame(xc,columns=df_xc.columns)"
   ]
  },
  {
   "cell_type": "code",
   "execution_count": 51,
   "id": "05b72475",
   "metadata": {},
   "outputs": [],
   "source": [
    "#defining a function to find accuracy score, crossvalidation score for the given dataset\n",
    "def max_acc_score(names,model_c,df_xc,yc):\n",
    "    accuracy_scr_max = 0\n",
    "    for r_state in range(42,100):\n",
    "        train_xc,test_xc,train_yc,test_yc = train_test_split(df_xc,yc,random_state = r_state,test_size = 0.33,stratify = yc)\n",
    "        model_c.fit(train_xc,train_yc)\n",
    "        accuracy_scr = accuracy_score(test_yc,model_c.predict(test_xc))\n",
    "        if accuracy_scr> accuracy_scr_max:\n",
    "            accuracy_scr_max=accuracy_scr\n",
    "            final_state = r_state\n",
    "            final_model = model_c\n",
    "            mean_acc = cross_val_score(final_model,df_xc,yc,cv=5,scoring=\"accuracy\").mean()\n",
    "            std_dev = cross_val_score(final_model,df_xc,yc,cv=5,scoring=\"accuracy\").std()\n",
    "            cross_val = cross_val_score(final_model,df_xc,yc,cv=5,scoring=\"accuracy\")\n",
    "    print('\\033[1m',\"Results for model : \",names,'\\n','\\033[0m'\n",
    "          \"max accuracy score is\" , accuracy_scr_max ,'\\n',\n",
    "          \"Mean accuracy score is : \",mean_acc,'\\n',\n",
    "          \"Std deviation score is : \",std_dev,'\\n',\n",
    "          \"Cross validation scores are :  \" ,cross_val) \n",
    "    print(\"*\"*100)"
   ]
  },
  {
   "cell_type": "code",
   "execution_count": 52,
   "id": "b0179b95",
   "metadata": {},
   "outputs": [
    {
     "name": "stdout",
     "output_type": "stream",
     "text": [
      "\u001b[1m Results for model :  Random Forest \n",
      " \u001b[0mmax accuracy score is 0.8207692307692308 \n",
      " Mean accuracy score is :  0.7466498751926934 \n",
      " Std deviation score is :  0.08695927914603901 \n",
      " Cross validation scores are :   [0.74746193 0.79568528 0.82106599 0.59263959 0.80813215]\n",
      "****************************************************************************************************\n",
      "\u001b[1m Results for model :  KNN \n",
      " \u001b[0mmax accuracy score is 0.8207692307692308 \n",
      " Mean accuracy score is :  0.7700014189978006 \n",
      " Std deviation score is :  0.05471843875214104 \n",
      " Cross validation scores are :   [0.75888325 0.79441624 0.82233503 0.66878173 0.80559085]\n",
      "****************************************************************************************************\n",
      "\u001b[1m Results for model :  Decision Tree Classifier \n",
      " \u001b[0mmax accuracy score is 0.7453846153846154 \n",
      " Mean accuracy score is :  0.6425625165280994 \n",
      " Std deviation score is :  0.09641704704166972 \n",
      " Cross validation scores are :   [0.63071066 0.64974619 0.75126904 0.47208122 0.7064803 ]\n",
      "****************************************************************************************************\n",
      "\u001b[1m Results for model :  Gaussian NB \n",
      " \u001b[0mmax accuracy score is 0.8184615384615385 \n",
      " Mean accuracy score is :  0.7382706931804256 \n",
      " Std deviation score is :  0.07986363847415348 \n",
      " Cross validation scores are :   [0.61928934 0.80583756 0.81345178 0.66624365 0.78653113]\n",
      "****************************************************************************************************\n"
     ]
    }
   ],
   "source": [
    "#Now by using multiple Algorithms we are calculating the best Algo which suit best for our data set \n",
    "accuracy_scr_max = []\n",
    "accuracy=[]\n",
    "std_dev=[]\n",
    "mean_acc=[]\n",
    "cross_val=[]\n",
    "models=[]\n",
    "models.append(('Random Forest', RandomForestClassifier()))\n",
    "models.append(('KNN', KNeighborsClassifier()))\n",
    "models.append(('Decision Tree Classifier', DecisionTreeClassifier()))\n",
    "models.append(('Gaussian NB',GaussianNB()))\n",
    "\n",
    "for names,model_c in models:\n",
    "    max_acc_score(names,model_c,df_xc,yc)"
   ]
  },
  {
   "cell_type": "code",
   "execution_count": null,
   "id": "6aeb7f8e",
   "metadata": {},
   "outputs": [],
   "source": []
  },
  {
   "cell_type": "code",
   "execution_count": 53,
   "id": "924c4e57",
   "metadata": {},
   "outputs": [],
   "source": [
    "#Observations: \n",
    "#a. From initial model accuracy values we see that KNN are performing better than others.  \n",
    "#b. It has maximum accuracy score and minimum standard deviations.   \n",
    "#c. DTC is the worst performer with 74% accuracy."
   ]
  },
  {
   "cell_type": "code",
   "execution_count": null,
   "id": "788724cd",
   "metadata": {},
   "outputs": [],
   "source": []
  },
  {
   "cell_type": "code",
   "execution_count": 54,
   "id": "ec8f77d9",
   "metadata": {},
   "outputs": [
    {
     "data": {
      "text/plain": [
       "{'n_neighbors': 28}"
      ]
     },
     "execution_count": 54,
     "metadata": {},
     "output_type": "execute_result"
    }
   ],
   "source": [
    "# Estimating best n_neighbors using grid search CV for KNeighborsClassifier\n",
    "\n",
    "kNN=KNeighborsClassifier()\n",
    "parameters={\"n_neighbors\":range(2,30)}\n",
    "clf = GridSearchCV(kNN, parameters, cv=5,scoring=\"accuracy\")\n",
    "clf.fit(df_xc,yc)\n",
    "clf.best_params_"
   ]
  },
  {
   "cell_type": "code",
   "execution_count": 55,
   "id": "c63e6b2a",
   "metadata": {},
   "outputs": [
    {
     "name": "stdout",
     "output_type": "stream",
     "text": [
      "\u001b[1m Results for model :  KNeighbors Classifier \n",
      " \u001b[0mmax accuracy score is 0.8269230769230769 \n",
      " Mean accuracy score is :  0.8045217654912635 \n",
      " Std deviation score is :  0.01550832831805964 \n",
      " Cross validation scores are :   [0.78045685 0.81472081 0.81979695 0.79187817 0.81575604]\n",
      "****************************************************************************************************\n"
     ]
    }
   ],
   "source": [
    "#Again running KNeighborsClassifier with n_neighbor = 28\n",
    "kNN=KNeighborsClassifier(n_neighbors=28)\n",
    "max_acc_score(\"KNeighbors Classifier\",kNN,df_xc,yc)"
   ]
  },
  {
   "cell_type": "code",
   "execution_count": null,
   "id": "15a50699",
   "metadata": {},
   "outputs": [],
   "source": []
  },
  {
   "cell_type": "code",
   "execution_count": 56,
   "id": "43ef15ef",
   "metadata": {},
   "outputs": [],
   "source": [
    "#To check model performance, we will now plot different performance metrics."
   ]
  },
  {
   "cell_type": "code",
   "execution_count": 57,
   "id": "601cd942",
   "metadata": {},
   "outputs": [],
   "source": [
    "xc_train,xc_test,yc_train,yc_test=train_test_split(df_xc, yc,random_state = 80,test_size=0.20,stratify=yc)\n",
    "kNN.fit(xc_train,yc_train)\n",
    "yc_pred=kNN.predict(xc_test)"
   ]
  },
  {
   "cell_type": "code",
   "execution_count": 58,
   "id": "2ba90aaf",
   "metadata": {},
   "outputs": [
    {
     "name": "stdout",
     "output_type": "stream",
     "text": [
      "accuracy score is :  0.8197969543147208\n",
      "classification report \n",
      "               precision    recall  f1-score   support\n",
      "\n",
      "           0       0.83      0.99      0.90       642\n",
      "           1       0.58      0.09      0.15       124\n",
      "           2       0.00      0.00      0.00        22\n",
      "\n",
      "    accuracy                           0.82       788\n",
      "   macro avg       0.47      0.36      0.35       788\n",
      "weighted avg       0.76      0.82      0.76       788\n",
      "\n"
     ]
    },
    {
     "data": {
      "text/plain": [
       "<AxesSubplot:>"
      ]
     },
     "execution_count": 58,
     "metadata": {},
     "output_type": "execute_result"
    },
    {
     "data": {
      "image/png": "[encoded data removed]",
      "text/plain": [
       "<Figure size 432x288 with 2 Axes>"
      ]
     },
     "metadata": {
      "needs_background": "light"
     },
     "output_type": "display_data"
    }
   ],
   "source": [
    "from sklearn.metrics import confusion_matrix\n",
    "from sklearn.metrics import classification_report\n",
    "from sklearn.metrics import roc_auc_score\n",
    "\n",
    "print(\"accuracy score is : \",accuracy_score(yc_test,yc_pred))\n",
    "print(\"classification report \\n\",classification_report(yc_test,yc_pred))\n",
    "\n",
    "cnf = confusion_matrix(yc_test,yc_pred)\n",
    "sns.heatmap(cnf, annot=True, cmap = \"Blues\")"
   ]
  },
  {
   "cell_type": "code",
   "execution_count": 59,
   "id": "7373ddd9",
   "metadata": {},
   "outputs": [],
   "source": [
    "#Observations:\n",
    "\n",
    "#1.Due to abnormal distribution of data point -model is highly accurate in predicting no crop damage but needs \n",
    "#improvement in predicting pesticide crop damage.\n",
    "\n",
    "#2.Attempting to use ADABoost Classifier to boostup accuracy of the model.\n",
    "\n",
    "#From observation, we found decent accuracy ( ~0.82), precision, and recall for the model. \n",
    "#This indicates that the model is a good fit for the prediction."
   ]
  },
  {
   "cell_type": "code",
   "execution_count": 60,
   "id": "fc8b9ff5",
   "metadata": {},
   "outputs": [
    {
     "name": "stdout",
     "output_type": "stream",
     "text": [
      "0.8185279187817259\n",
      "[[641   1   0]\n",
      " [120   4   0]\n",
      " [ 22   0   0]]\n",
      "              precision    recall  f1-score   support\n",
      "\n",
      "           0       0.82      1.00      0.90       642\n",
      "           1       0.80      0.03      0.06       124\n",
      "           2       0.00      0.00      0.00        22\n",
      "\n",
      "    accuracy                           0.82       788\n",
      "   macro avg       0.54      0.34      0.32       788\n",
      "weighted avg       0.79      0.82      0.74       788\n",
      "\n"
     ]
    }
   ],
   "source": [
    "#Using adaboost classifier\n",
    "from sklearn.ensemble import AdaBoostClassifier\n",
    "ad=AdaBoostClassifier(n_estimators=10,learning_rate=1)\n",
    "ad.fit(xc_train,yc_train)\n",
    "ad_pred=ad.predict(xc_test)\n",
    "print(accuracy_score(yc_test,ad_pred))\n",
    "print(confusion_matrix(yc_test,ad_pred))\n",
    "print(classification_report(yc_test,ad_pred))"
   ]
  },
  {
   "cell_type": "code",
   "execution_count": 61,
   "id": "5af66466",
   "metadata": {},
   "outputs": [],
   "source": [
    "#Not much improvement is observed by using ADABoost model.\n",
    "#But overall it gives good accuracy among all models so we save as our final model."
   ]
  },
  {
   "cell_type": "code",
   "execution_count": null,
   "id": "5ddb384b",
   "metadata": {},
   "outputs": [],
   "source": []
  },
  {
   "cell_type": "code",
   "execution_count": null,
   "id": "68bdd851",
   "metadata": {},
   "outputs": [],
   "source": []
  },
  {
   "cell_type": "code",
   "execution_count": 62,
   "id": "c979074c",
   "metadata": {},
   "outputs": [],
   "source": [
    "#Saving Final Model"
   ]
  },
  {
   "cell_type": "code",
   "execution_count": 63,
   "id": "371f4a6e",
   "metadata": {},
   "outputs": [
    {
     "data": {
      "text/plain": [
       "True"
      ]
     },
     "execution_count": 63,
     "metadata": {},
     "output_type": "execute_result"
    }
   ],
   "source": [
    "df_test.isnull().any().any()"
   ]
  },
  {
   "cell_type": "code",
   "execution_count": 64,
   "id": "0f79b17e",
   "metadata": {},
   "outputs": [
    {
     "data": {
      "text/plain": [
       "Estimated_Insects_Count    False\n",
       "Crop_Type                  False\n",
       "Soil_Type                  False\n",
       "Pesticide_Use_Category     False\n",
       "Number_Doses_Week          False\n",
       "Number_Weeks_Used           True\n",
       "Number_Weeks_Quit          False\n",
       "Season                     False\n",
       "source                     False\n",
       "dtype: bool"
      ]
     },
     "execution_count": 64,
     "metadata": {},
     "output_type": "execute_result"
    }
   ],
   "source": [
    "df_test.isnull().any()"
   ]
  },
  {
   "cell_type": "code",
   "execution_count": 65,
   "id": "84c5cddf",
   "metadata": {},
   "outputs": [],
   "source": [
    "df_test.fillna(df_train.mean(), inplace=True)"
   ]
  },
  {
   "cell_type": "code",
   "execution_count": 66,
   "id": "598e5c80",
   "metadata": {},
   "outputs": [
    {
     "data": {
      "text/plain": [
       "Estimated_Insects_Count    False\n",
       "Crop_Type                  False\n",
       "Soil_Type                  False\n",
       "Pesticide_Use_Category     False\n",
       "Number_Doses_Week          False\n",
       "Number_Weeks_Used          False\n",
       "Number_Weeks_Quit          False\n",
       "Season                     False\n",
       "source                     False\n",
       "dtype: bool"
      ]
     },
     "execution_count": 66,
     "metadata": {},
     "output_type": "execute_result"
    }
   ],
   "source": [
    "df_test.isnull().any()"
   ]
  },
  {
   "cell_type": "code",
   "execution_count": 67,
   "id": "0a31f395",
   "metadata": {},
   "outputs": [],
   "source": [
    "#From above we see AdaBoostClassifier is performing better so we will use it to make our final predictions."
   ]
  },
  {
   "cell_type": "code",
   "execution_count": 68,
   "id": "64bfe8e8",
   "metadata": {},
   "outputs": [],
   "source": [
    "#Outcome_pred=ad.predict(df_test)"
   ]
  },
  {
   "cell_type": "code",
   "execution_count": 69,
   "id": "ee179aa5",
   "metadata": {},
   "outputs": [
    {
     "data": {
      "text/plain": [
       "Estimated_Insects_Count      int64\n",
       "Crop_Type                    int64\n",
       "Soil_Type                    int64\n",
       "Pesticide_Use_Category       int64\n",
       "Number_Doses_Week            int64\n",
       "Number_Weeks_Used          float64\n",
       "Number_Weeks_Quit            int64\n",
       "Season                       int64\n",
       "dtype: object"
      ]
     },
     "execution_count": 69,
     "metadata": {},
     "output_type": "execute_result"
    }
   ],
   "source": [
    "#Dropping Source column from the data for outlier analysis\n",
    "df_test.drop(columns=[\"source\"],axis=1,inplace=True)\n",
    "df_test.dtypes"
   ]
  },
  {
   "cell_type": "code",
   "execution_count": 70,
   "id": "539cc0df",
   "metadata": {},
   "outputs": [],
   "source": [
    "Outcome_pred=ad.predict(df_test)\n",
    "Outcome_pred=pd.DataFrame(Outcome_pred,columns=[\"Crop_Damage\"])\n",
    "Outcome_pred.to_csv('Crop_Damage_Predictions.csv_AD',index=False)"
   ]
  },
  {
   "cell_type": "code",
   "execution_count": 71,
   "id": "2d495d14",
   "metadata": {},
   "outputs": [],
   "source": [
    "Outcome_pred=ad.predict(df_test)\n",
    "Outcome_pred=pd.DataFrame(Outcome_pred,columns=[\"Crop_Damage\"])\n",
    "Outcome_pred.to_csv('Crop_Damage_Predictions.csv_AD',index=False)"
   ]
  },
  {
   "cell_type": "code",
   "execution_count": null,
   "id": "cef6aa1c",
   "metadata": {},
   "outputs": [],
   "source": []
  },
  {
   "cell_type": "code",
   "execution_count": 72,
   "id": "4784012f",
   "metadata": {},
   "outputs": [],
   "source": [
    "#print (ad.predict([[900, 1, 1, 1, 0, 0, 0 ,2]]))"
   ]
  },
  {
   "cell_type": "code",
   "execution_count": 73,
   "id": "37c588cf",
   "metadata": {},
   "outputs": [
    {
     "ename": "PermissionError",
     "evalue": "[Errno 13] Permission denied: 'Crop_Damage_Predictions_KNN.csv'",
     "output_type": "error",
     "traceback": [
      "\u001b[1;31m---------------------------------------------------------------------------\u001b[0m",
      "\u001b[1;31mPermissionError\u001b[0m                           Traceback (most recent call last)",
      "\u001b[1;32m~\\AppData\\Local\\Temp/ipykernel_7104/1279900871.py\u001b[0m in \u001b[0;36m<module>\u001b[1;34m\u001b[0m\n\u001b[0;32m      1\u001b[0m \u001b[0mOutcome_predd\u001b[0m\u001b[1;33m=\u001b[0m\u001b[0mkNN\u001b[0m\u001b[1;33m.\u001b[0m\u001b[0mpredict\u001b[0m\u001b[1;33m(\u001b[0m\u001b[0mdf_test\u001b[0m\u001b[1;33m)\u001b[0m\u001b[1;33m\u001b[0m\u001b[1;33m\u001b[0m\u001b[0m\n\u001b[0;32m      2\u001b[0m \u001b[0mOutcome_predd\u001b[0m\u001b[1;33m=\u001b[0m\u001b[0mpd\u001b[0m\u001b[1;33m.\u001b[0m\u001b[0mDataFrame\u001b[0m\u001b[1;33m(\u001b[0m\u001b[0mOutcome_predd\u001b[0m\u001b[1;33m,\u001b[0m\u001b[0mcolumns\u001b[0m\u001b[1;33m=\u001b[0m\u001b[1;33m[\u001b[0m\u001b[1;34m\"Crop_Damage\"\u001b[0m\u001b[1;33m]\u001b[0m\u001b[1;33m)\u001b[0m\u001b[1;33m\u001b[0m\u001b[1;33m\u001b[0m\u001b[0m\n\u001b[1;32m----> 3\u001b[1;33m \u001b[0mOutcome_predd\u001b[0m\u001b[1;33m.\u001b[0m\u001b[0mto_csv\u001b[0m\u001b[1;33m(\u001b[0m\u001b[1;34m'Crop_Damage_Predictions_KNN.csv'\u001b[0m\u001b[1;33m,\u001b[0m\u001b[0mindex\u001b[0m\u001b[1;33m=\u001b[0m\u001b[1;32mFalse\u001b[0m\u001b[1;33m)\u001b[0m\u001b[1;33m\u001b[0m\u001b[1;33m\u001b[0m\u001b[0m\n\u001b[0m",
      "\u001b[1;32m~\\Anaconda3\\lib\\site-packages\\pandas\\core\\generic.py\u001b[0m in \u001b[0;36mto_csv\u001b[1;34m(self, path_or_buf, sep, na_rep, float_format, columns, header, index, index_label, mode, encoding, compression, quoting, quotechar, line_terminator, chunksize, date_format, doublequote, escapechar, decimal, errors, storage_options)\u001b[0m\n\u001b[0;32m   3464\u001b[0m         )\n\u001b[0;32m   3465\u001b[0m \u001b[1;33m\u001b[0m\u001b[0m\n\u001b[1;32m-> 3466\u001b[1;33m         return DataFrameRenderer(formatter).to_csv(\n\u001b[0m\u001b[0;32m   3467\u001b[0m             \u001b[0mpath_or_buf\u001b[0m\u001b[1;33m,\u001b[0m\u001b[1;33m\u001b[0m\u001b[1;33m\u001b[0m\u001b[0m\n\u001b[0;32m   3468\u001b[0m             \u001b[0mline_terminator\u001b[0m\u001b[1;33m=\u001b[0m\u001b[0mline_terminator\u001b[0m\u001b[1;33m,\u001b[0m\u001b[1;33m\u001b[0m\u001b[1;33m\u001b[0m\u001b[0m\n",
      "\u001b[1;32m~\\Anaconda3\\lib\\site-packages\\pandas\\io\\formats\\format.py\u001b[0m in \u001b[0;36mto_csv\u001b[1;34m(self, path_or_buf, encoding, sep, columns, index_label, mode, compression, quoting, quotechar, line_terminator, chunksize, date_format, doublequote, escapechar, errors, storage_options)\u001b[0m\n\u001b[0;32m   1103\u001b[0m             \u001b[0mformatter\u001b[0m\u001b[1;33m=\u001b[0m\u001b[0mself\u001b[0m\u001b[1;33m.\u001b[0m\u001b[0mfmt\u001b[0m\u001b[1;33m,\u001b[0m\u001b[1;33m\u001b[0m\u001b[1;33m\u001b[0m\u001b[0m\n\u001b[0;32m   1104\u001b[0m         )\n\u001b[1;32m-> 1105\u001b[1;33m         \u001b[0mcsv_formatter\u001b[0m\u001b[1;33m.\u001b[0m\u001b[0msave\u001b[0m\u001b[1;33m(\u001b[0m\u001b[1;33m)\u001b[0m\u001b[1;33m\u001b[0m\u001b[1;33m\u001b[0m\u001b[0m\n\u001b[0m\u001b[0;32m   1106\u001b[0m \u001b[1;33m\u001b[0m\u001b[0m\n\u001b[0;32m   1107\u001b[0m         \u001b[1;32mif\u001b[0m \u001b[0mcreated_buffer\u001b[0m\u001b[1;33m:\u001b[0m\u001b[1;33m\u001b[0m\u001b[1;33m\u001b[0m\u001b[0m\n",
      "\u001b[1;32m~\\Anaconda3\\lib\\site-packages\\pandas\\io\\formats\\csvs.py\u001b[0m in \u001b[0;36msave\u001b[1;34m(self)\u001b[0m\n\u001b[0;32m    235\u001b[0m         \"\"\"\n\u001b[0;32m    236\u001b[0m         \u001b[1;31m# apply compression and byte/text conversion\u001b[0m\u001b[1;33m\u001b[0m\u001b[1;33m\u001b[0m\u001b[0m\n\u001b[1;32m--> 237\u001b[1;33m         with get_handle(\n\u001b[0m\u001b[0;32m    238\u001b[0m             \u001b[0mself\u001b[0m\u001b[1;33m.\u001b[0m\u001b[0mfilepath_or_buffer\u001b[0m\u001b[1;33m,\u001b[0m\u001b[1;33m\u001b[0m\u001b[1;33m\u001b[0m\u001b[0m\n\u001b[0;32m    239\u001b[0m             \u001b[0mself\u001b[0m\u001b[1;33m.\u001b[0m\u001b[0mmode\u001b[0m\u001b[1;33m,\u001b[0m\u001b[1;33m\u001b[0m\u001b[1;33m\u001b[0m\u001b[0m\n",
      "\u001b[1;32m~\\Anaconda3\\lib\\site-packages\\pandas\\io\\common.py\u001b[0m in \u001b[0;36mget_handle\u001b[1;34m(path_or_buf, mode, encoding, compression, memory_map, is_text, errors, storage_options)\u001b[0m\n\u001b[0;32m    700\u001b[0m         \u001b[1;32mif\u001b[0m \u001b[0mioargs\u001b[0m\u001b[1;33m.\u001b[0m\u001b[0mencoding\u001b[0m \u001b[1;32mand\u001b[0m \u001b[1;34m\"b\"\u001b[0m \u001b[1;32mnot\u001b[0m \u001b[1;32min\u001b[0m \u001b[0mioargs\u001b[0m\u001b[1;33m.\u001b[0m\u001b[0mmode\u001b[0m\u001b[1;33m:\u001b[0m\u001b[1;33m\u001b[0m\u001b[1;33m\u001b[0m\u001b[0m\n\u001b[0;32m    701\u001b[0m             \u001b[1;31m# Encoding\u001b[0m\u001b[1;33m\u001b[0m\u001b[1;33m\u001b[0m\u001b[0m\n\u001b[1;32m--> 702\u001b[1;33m             handle = open(\n\u001b[0m\u001b[0;32m    703\u001b[0m                 \u001b[0mhandle\u001b[0m\u001b[1;33m,\u001b[0m\u001b[1;33m\u001b[0m\u001b[1;33m\u001b[0m\u001b[0m\n\u001b[0;32m    704\u001b[0m                 \u001b[0mioargs\u001b[0m\u001b[1;33m.\u001b[0m\u001b[0mmode\u001b[0m\u001b[1;33m,\u001b[0m\u001b[1;33m\u001b[0m\u001b[1;33m\u001b[0m\u001b[0m\n",
      "\u001b[1;31mPermissionError\u001b[0m: [Errno 13] Permission denied: 'Crop_Damage_Predictions_KNN.csv'"
     ]
    }
   ],
   "source": [
    "Outcome_predd=kNN.predict(df_test)\n",
    "Outcome_predd=pd.DataFrame(Outcome_predd,columns=[\"Crop_Damage\"])\n",
    "Outcome_predd.to_csv('Crop_Damage_Predictions_KNN.csv',index=False)"
   ]
  },
  {
   "cell_type": "code",
   "execution_count": null,
   "id": "b0741f82",
   "metadata": {},
   "outputs": [],
   "source": []
  }
 ],
 "metadata": {
  "kernelspec": {
   "display_name": "Python 3 (ipykernel)",
   "language": "python",
   "name": "python3"
  },
  "language_info": {
   "codemirror_mode": {
    "name": "ipython",
    "version": 3
   },
   "file_extension": ".py",
   "mimetype": "text/x-python",
   "name": "python",
   "nbconvert_exporter": "python",
   "pygments_lexer": "ipython3",
   "version": "3.9.7"
  }
 },
 "nbformat": 4,
 "nbformat_minor": 5
}
